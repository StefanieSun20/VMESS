{
  "nbformat": 4,
  "nbformat_minor": 0,
  "metadata": {
    "colab": {
      "provenance": [],
      "authorship_tag": "ABX9TyMPlw6Mud+g0LRfgzG1uKcK",
      "include_colab_link": true
    },
    "kernelspec": {
      "name": "python3",
      "display_name": "Python 3"
    },
    "language_info": {
      "name": "python"
    }
  },
  "cells": [
    {
      "cell_type": "markdown",
      "metadata": {
        "id": "view-in-github",
        "colab_type": "text"
      },
      "source": [
        "<a href=\"https://colab.research.google.com/github/StefanieSun20/VMESS/blob/main/blue%E4%B8%8A%E7%BD%91%E6%9B%B4%E6%96%B0.ipynb\" target=\"_parent\"><img src=\"https://colab.research.google.com/assets/colab-badge.svg\" alt=\"Open In Colab\"/></a>"
      ]
    },
    {
      "cell_type": "code",
      "source": [
        "!git log -1 --stat"
      ],
      "metadata": {
        "colab": {
          "base_uri": "https://localhost:8080/"
        },
        "id": "WGpPkuFOvRGg",
        "outputId": "e6d07532-b058-4117-91bc-657cc5408afc"
      },
      "execution_count": 108,
      "outputs": [
        {
          "output_type": "stream",
          "name": "stdout",
          "text": [
            "\u001b[33mcommit 68e36e21b112284e66a1cd560ae2e323e6321518\u001b[m\u001b[33m (\u001b[m\u001b[1;36mHEAD -> \u001b[m\u001b[1;32mmaster\u001b[m\u001b[33m, \u001b[m\u001b[1;31morigin/master\u001b[m\u001b[33m, \u001b[m\u001b[1;31morigin/HEAD\u001b[m\u001b[33m)\u001b[m\n",
            "Author: blue <lzh720530@gmail.com>\n",
            "Date:   Sun Jun 4 04:49:47 2023 +0000\n",
            "\n",
            "    上传文件至 '2023/5'\n",
            "\n",
            " 2023/5/4  | 4901 \u001b[32m+++++++++++++++++++++++++++++++++++++++++++++++++++++++++++++\u001b[m\n",
            " 2023/5/4v |  251 \u001b[32m++++\u001b[m\n",
            " 2023/5/c3 |  906 \u001b[32m++++++++++\u001b[m\u001b[31m--\u001b[m\n",
            " 2023/5/v3 |  362 \u001b[32m+++\u001b[m\u001b[31m--\u001b[m\n",
            " 4 files changed, 6132 insertions(+), 288 deletions(-)\n"
          ]
        }
      ]
    },
    {
      "cell_type": "code",
      "source": [
        "#加载Google云盘\n",
        "from google.colab import drive\n",
        "drive.mount('/content/drive')\n",
        "\n",
        "#更新数据库\n",
        "!cd /content/drive/MyDrive/GIT/youlingkaishi\n",
        "!git pull https://agit.ai/blue/youlingkaishi.git\n",
        "#读取最新更新状态\n",
        "!git log -1 --stat > 1.txt\n",
        "\n",
        "#获取最新文件地址\n",
        "f = open(\"1.txt\",\"r\")  \n",
        "lines = f.readlines()#读取全部内容  \n",
        "f.close()\n",
        "\n",
        "#读日志最后一行，空格后第一个字符显示更新了几个文件\n",
        "txt=lines[-1]\n",
        "#print(txt[1])\n",
        "\n",
        "#从倒数第二行开始记录网址\n",
        "n=-2\n",
        "#初始化记录网址url,urlN\n",
        "url = \"https://agit.ai/blue/youlingkaishi/raw/branch/master/\"\n",
        "urlN=\"\"\n",
        "\n",
        "for n in range(-2,-2-int(txt[1]),-1):\n",
        "    txtN=lines[n].split(\" \")\n",
        "    urlN= urlN+url+txtN[1]+\"\\n\"\n",
        "print(urlN)\n",
        "\n",
        "#保存代理地址\n",
        "#读取当前日期并设置文件名称\n",
        "from datetime import date\n",
        "path = \"/content/drive/MyDrive/youlingkaishi/URL\"+str(date.today())+\".txt\"\n",
        "\n",
        "#保存文件\n",
        "f =open(path,\"w\")\n",
        "f.writelines(urlN)\n",
        "f.close()\n"
      ],
      "metadata": {
        "colab": {
          "base_uri": "https://localhost:8080/"
        },
        "id": "bAJqreFx-Z2B",
        "outputId": "14b36ab8-dbc0-4a5e-c7f0-7ceac3af779a"
      },
      "execution_count": null,
      "outputs": [
        {
          "output_type": "stream",
          "name": "stdout",
          "text": [
            "Drive already mounted at /content/drive; to attempt to forcibly remount, call drive.mount(\"/content/drive\", force_remount=True).\n",
            "From https://agit.ai/blue/youlingkaishi\n",
            " * branch            HEAD       -> FETCH_HEAD\n",
            "Already up to date.\n",
            "https://agit.ai/blue/youlingkaishi/raw/branch/master/2023/5/v3\n",
            "https://agit.ai/blue/youlingkaishi/raw/branch/master/2023/5/c3\n",
            "https://agit.ai/blue/youlingkaishi/raw/branch/master/2023/5/4v\n",
            "https://agit.ai/blue/youlingkaishi/raw/branch/master/2023/5/4\n",
            "\n"
          ]
        }
      ]
    },
    {
      "cell_type": "code",
      "source": [
        "#保存具体代理\n",
        "#正常情况下可不运行\n",
        "!pip install wget\n",
        "import wget\n",
        "\n",
        "for n in range(-2,-2-int(txt[1]),-1):\n",
        "    txtN=lines[n].split(\" \")\n",
        "    urlN= urlN+url+txtN[1]+\"\\n\"\n",
        "    pathN= \"/content/drive/MyDrive/youlingkaishi/VMESS/VMESS\"+str(date.today())+\"-\"+str(-n-1)+\".txt\"\n",
        "    wget.download(url+txtN[1],pathN)"
      ],
      "metadata": {
        "id": "KMqaeOLC7a-2",
        "colab": {
          "base_uri": "https://localhost:8080/"
        },
        "outputId": "af19fd00-4619-4b58-e397-2c0dd843f47d"
      },
      "execution_count": null,
      "outputs": [
        {
          "output_type": "stream",
          "name": "stdout",
          "text": [
            "Looking in indexes: https://pypi.org/simple, https://us-python.pkg.dev/colab-wheels/public/simple/\n",
            "Requirement already satisfied: wget in /usr/local/lib/python3.10/dist-packages (3.2)\n"
          ]
        }
      ]
    },
    {
      "cell_type": "code",
      "source": [
        "!cd /content/drive/MyDrive/GIT/\n",
        "!git clone https://github.com/StefanieSun20/VMESS.git\n",
        "!git log -1 --stat > 1.txt"
      ],
      "metadata": {
        "colab": {
          "base_uri": "https://localhost:8080/"
        },
        "id": "06CVePgXzhWg",
        "outputId": "b7e586fe-f5ce-4d81-bce0-59c825bdbd15"
      },
      "execution_count": 111,
      "outputs": [
        {
          "output_type": "stream",
          "name": "stdout",
          "text": [
            "Cloning into 'VMESS'...\n",
            "remote: Enumerating objects: 6, done.\u001b[K\n",
            "remote: Counting objects: 100% (6/6), done.\u001b[K\n",
            "remote: Compressing objects: 100% (4/4), done.\u001b[K\n",
            "remote: Total 6 (delta 0), reused 0 (delta 0), pack-reused 0\u001b[K\n",
            "Unpacking objects: 100% (6/6), 2.97 KiB | 1.49 MiB/s, done.\n"
          ]
        }
      ]
    }
  ]
}